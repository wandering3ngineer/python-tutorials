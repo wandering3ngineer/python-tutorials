{
 "cells": [
  {
   "cell_type": "markdown",
   "metadata": {},
   "source": [
    "<h1>Testing Notebook</h1>\n",
    "\n",
    "<p>I  will be using this notebook to test some code in python</p>"
   ]
  },
  {
   "cell_type": "markdown",
   "metadata": {},
   "source": [
    "* A\n",
    "* B\n",
    "  * C\n",
    "\n",
    "*This is some text*\n",
    "\n",
    "_This is some more_\n",
    "\n",
    "**This is bold**\n",
    "\n",
    "# Heading\n",
    "\n",
    "> Life is a box of chocolates\n",
    "> There's always one of those coconuts\n",
    "\n",
    "![SomeDescription](test.png)\n",
    "\n",
    "\n",
    "[Google](http://www.google.ca)\n",
    "\n",
    "\n",
    "|Left |Center|Right|\n",
    "|:-----|:----:|----:|\n",
    "|1 |A |C |\n",
    "|2 |B |D |\n",
    "\n",
    "\n",
    "\n",
    "- [x] this is a complete item\n",
    "- [ ] this is an incomplete item\n",
    "- [x] [links](), **formatting**, and basic HTML <del>tags</del> are supported\n",
    "- [x] list syntax required (any unordered or ordered list supported)"
   ]
  },
  {
   "cell_type": "code",
   "execution_count": 4,
   "metadata": {},
   "outputs": [
    {
     "name": "stdout",
     "output_type": "stream",
     "text": [
      "hello world\n"
     ]
    }
   ],
   "source": [
    "print ('hello world')"
   ]
  },
  {
   "cell_type": "code",
   "execution_count": 5,
   "metadata": {},
   "outputs": [
    {
     "name": "stdout",
     "output_type": "stream",
     "text": [
      "Original DataFrame:\n",
      "  Product  Quantity  Price\n",
      "0   Apple        10    1.0\n",
      "1  Banana         5    0.5\n",
      "2  Orange         8    0.8\n",
      "3  Grapes        15    1.2\n"
     ]
    }
   ],
   "source": [
    "import pandas as pd\n",
    "\n",
    "# Create a sample DataFrame\n",
    "data = {\n",
    "    'Product': ['Apple', 'Banana', 'Orange', 'Grapes'],\n",
    "    'Quantity': [10, 5, 8, 15],\n",
    "    'Price': [1.0, 0.5, 0.8, 1.2]\n",
    "}\n",
    "\n",
    "df = pd.DataFrame(data)\n",
    "\n",
    "# Display the original DataFrame\n",
    "print(\"Original DataFrame:\")\n",
    "print(df)\n"
   ]
  },
  {
   "cell_type": "code",
   "execution_count": 4,
   "metadata": {},
   "outputs": [
    {
     "name": "stdout",
     "output_type": "stream",
     "text": [
      "  Product  Quantity  Price\n",
      "3  Grapes        15    1.2\n",
      "2  Orange         8    0.8\n",
      "1  Banana         5    0.5\n",
      "0   Apple        10    1.0\n"
     ]
    }
   ],
   "source": [
    "print(df.iloc[::-1])"
   ]
  },
  {
   "cell_type": "code",
   "execution_count": null,
   "metadata": {},
   "outputs": [],
   "source": []
  }
 ],
 "metadata": {
  "kernelspec": {
   "display_name": "project",
   "language": "python",
   "name": "python3"
  },
  "language_info": {
   "codemirror_mode": {
    "name": "ipython",
    "version": 3
   },
   "file_extension": ".py",
   "mimetype": "text/x-python",
   "name": "python",
   "nbconvert_exporter": "python",
   "pygments_lexer": "ipython3",
   "version": "3.11.9"
  }
 },
 "nbformat": 4,
 "nbformat_minor": 2
}
